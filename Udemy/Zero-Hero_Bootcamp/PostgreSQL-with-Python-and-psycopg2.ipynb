{
 "cells": [
  {
   "cell_type": "markdown",
   "id": "e6c61ca0",
   "metadata": {},
   "source": [
    "# PostgreSQL with Python"
   ]
  },
  {
   "cell_type": "code",
   "execution_count": 2,
   "id": "25d2a056",
   "metadata": {},
   "outputs": [],
   "source": [
    "import psycopg2 as pg2"
   ]
  },
  {
   "cell_type": "code",
   "execution_count": 4,
   "id": "7737816f",
   "metadata": {},
   "outputs": [],
   "source": [
    "# Establish a connection\n",
    "conn = pg2.connect(database='dvdrental', user='postgres',password='******')"
   ]
  },
  {
   "cell_type": "code",
   "execution_count": 5,
   "id": "89ac95b6",
   "metadata": {},
   "outputs": [],
   "source": [
    "# Create a cursor\n",
    "cur = conn.cursor()"
   ]
  },
  {
   "cell_type": "code",
   "execution_count": 34,
   "id": "f298e01f",
   "metadata": {},
   "outputs": [],
   "source": [
    "# Execute a query\n",
    "cur.execute('SELECT * FROM payment')"
   ]
  },
  {
   "cell_type": "code",
   "execution_count": 26,
   "id": "82d54ebe",
   "metadata": {},
   "outputs": [
    {
     "data": {
      "text/plain": [
       "(17503,\n",
       " 341,\n",
       " 2,\n",
       " 1520,\n",
       " Decimal('7.99'),\n",
       " datetime.datetime(2007, 2, 15, 22, 25, 46, 996577))"
      ]
     },
     "execution_count": 26,
     "metadata": {},
     "output_type": "execute_result"
    }
   ],
   "source": [
    "cur.fetchone() # return the first row of data"
   ]
  },
  {
   "cell_type": "code",
   "execution_count": 35,
   "id": "c54c56d3",
   "metadata": {},
   "outputs": [],
   "source": [
    "cur_data = cur.fetchmany(10) # return many items"
   ]
  },
  {
   "cell_type": "code",
   "execution_count": 28,
   "id": "33e59522",
   "metadata": {},
   "outputs": [],
   "source": [
    "# cur.fetchall() # return all rows"
   ]
  },
  {
   "cell_type": "code",
   "execution_count": 37,
   "id": "264f1010",
   "metadata": {},
   "outputs": [
    {
     "data": {
      "text/plain": [
       "Decimal('7.99')"
      ]
     },
     "execution_count": 37,
     "metadata": {},
     "output_type": "execute_result"
    }
   ],
   "source": [
    "cur_data[0][4]"
   ]
  },
  {
   "cell_type": "code",
   "execution_count": 38,
   "id": "e62d9ea6",
   "metadata": {},
   "outputs": [],
   "source": [
    "conn.close()"
   ]
  }
 ],
 "metadata": {
  "kernelspec": {
   "display_name": "Python 3 (ipykernel)",
   "language": "python",
   "name": "python3"
  },
  "language_info": {
   "codemirror_mode": {
    "name": "ipython",
    "version": 3
   },
   "file_extension": ".py",
   "mimetype": "text/x-python",
   "name": "python",
   "nbconvert_exporter": "python",
   "pygments_lexer": "ipython3",
   "version": "3.9.13"
  }
 },
 "nbformat": 4,
 "nbformat_minor": 5
}
